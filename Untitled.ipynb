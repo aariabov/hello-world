{
 "cells": [
  {
   "cell_type": "code",
   "execution_count": 3,
   "id": "a615ad27",
   "metadata": {},
   "outputs": [
    {
     "name": "stdout",
     "output_type": "stream",
     "text": [
      "Hello 123\r\n"
     ]
    }
   ],
   "source": [
    "Console.WriteLine(\"Hello 123\");"
   ]
  },
  {
   "cell_type": "code",
   "execution_count": 4,
   "id": "d732cb00",
   "metadata": {},
   "outputs": [],
   "source": [
    "var xz = 100;"
   ]
  },
  {
   "cell_type": "code",
   "execution_count": 5,
   "id": "1a13c7b7",
   "metadata": {},
   "outputs": [
    {
     "data": {
      "text/html": [
       "<div class=\"dni-plaintext\"><pre>100</pre></div><style>\r\n",
       ".dni-code-hint {\r\n",
       "    font-style: italic;\r\n",
       "    overflow: hidden;\r\n",
       "    white-space: nowrap;\r\n",
       "}\r\n",
       ".dni-treeview {\r\n",
       "    white-space: nowrap;\r\n",
       "}\r\n",
       ".dni-treeview td {\r\n",
       "    vertical-align: top;\r\n",
       "    text-align: start;\r\n",
       "}\r\n",
       "details.dni-treeview {\r\n",
       "    padding-left: 1em;\r\n",
       "}\r\n",
       "table td {\r\n",
       "    text-align: start;\r\n",
       "}\r\n",
       "table tr { \r\n",
       "    vertical-align: top; \r\n",
       "    margin: 0em 0px;\r\n",
       "}\r\n",
       "table tr td pre \r\n",
       "{ \r\n",
       "    vertical-align: top !important; \r\n",
       "    margin: 0em 0px !important;\r\n",
       "} \r\n",
       "table th {\r\n",
       "    text-align: start;\r\n",
       "}\r\n",
       "</style>"
      ]
     },
     "execution_count": 5,
     "metadata": {},
     "output_type": "execute_result"
    }
   ],
   "source": [
    "xz"
   ]
  },
  {
   "cell_type": "code",
   "execution_count": 6,
   "id": "cf256c39",
   "metadata": {},
   "outputs": [
    {
     "name": "stdout",
     "output_type": "stream",
     "text": [
      "Xz is 100\r\n"
     ]
    }
   ],
   "source": [
    "Console.WriteLine($\"Xz is {xz}\");"
   ]
  },
  {
   "cell_type": "code",
   "execution_count": 9,
   "id": "1a7e7cfa",
   "metadata": {},
   "outputs": [],
   "source": [
    "xz = 200;"
   ]
  },
  {
   "cell_type": "markdown",
   "id": "703f3d8c",
   "metadata": {},
   "source": [
    "dfsdfsdf\n"
   ]
  },
  {
   "cell_type": "code",
   "execution_count": 10,
   "id": "26b2c21d",
   "metadata": {},
   "outputs": [],
   "source": [
    "xz=2;"
   ]
  },
  {
   "cell_type": "code",
   "execution_count": null,
   "id": "66385b1c",
   "metadata": {},
   "outputs": [],
   "source": []
  }
 ],
 "metadata": {
  "kernelspec": {
   "display_name": ".NET (C#)",
   "language": "C#",
   "name": ".net-csharp"
  },
  "language_info": {
   "file_extension": ".cs",
   "mimetype": "text/x-csharp",
   "name": "C#",
   "pygments_lexer": "csharp",
   "version": "12.0"
  }
 },
 "nbformat": 4,
 "nbformat_minor": 5
}
